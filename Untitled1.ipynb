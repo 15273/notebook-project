{
 "cells": [
  {
   "cell_type": "markdown",
   "id": "66a1568d-7b68-435f-9eb4-161b88e00006",
   "metadata": {},
   "source": [
    "### Data Science Languages\n",
    "\n",
    "- Python\n",
    "- R\n",
    "- SQL\n",
    "- Julia\n",
    "- Scala\n",
    "- MATLAB\n"
   ]
  },
  {
   "cell_type": "markdown",
   "id": "6692fffe-7929-4c6c-995a-8ac319933cc3",
   "metadata": {},
   "source": [
    "### Data Science Languages\n",
    "\n",
    "- Python\n",
    "- R\n",
    "- SQL\n",
    "- Julia\n",
    "- Scala\n",
    "- MATLAB\n"
   ]
  },
  {
   "cell_type": "markdown",
   "id": "abb2c049-aed4-44a2-8ecc-e8748b389029",
   "metadata": {},
   "source": [
    "### Data Science Libraries\n",
    "\n",
    "#### Python:\n",
    "\n",
    "- NumPy\n",
    "- Pandas\n",
    "- Matplotlib\n",
    "- Seaborn\n",
    "- Scikit-learn\n",
    "- TensorFlow\n",
    "- PyTorch\n",
    "\n",
    "#### R:\n",
    "\n",
    "- dplyr\n",
    "- ggplot2\n",
    "- caret\n",
    "- tidyr\n",
    "- lubridate\n",
    "- data.table\n",
    "\n",
    "#### Others:\n",
    "\n",
    "- SQLAlchemy (SQL)\n",
    "- H2O (Machine Learning)\n",
    "- Apache Spark (Big Data)\n",
    "- MATLAB's Statistics and Machine Learning Toolbox\n"
   ]
  },
  {
   "cell_type": "markdown",
   "id": "0bab5de7-cf8c-4ab9-9c52-52b78c87d8fb",
   "metadata": {},
   "source": [
    "### Data Science Libraries\n",
    "\n",
    "#### Python:\n",
    "\n",
    "- NumPy\n",
    "- Pandas\n",
    "- Matplotlib\n",
    "- Seaborn\n",
    "- Scikit-learn\n",
    "- TensorFlow\n",
    "- PyTorch\n",
    "\n",
    "#### R:\n",
    "\n",
    "- dplyr\n",
    "- ggplot2\n",
    "- caret\n",
    "- tidyr\n",
    "- lubridate\n",
    "- data.table\n",
    "\n",
    "#### Others:\n",
    "\n",
    "- SQLAlchemy (SQL)\n",
    "- H2O (Machine Learning)\n",
    "- Apache Spark (Big Data)\n",
    "- MATLAB's Statistics and Machine Learning Toolbox\n"
   ]
  },
  {
   "cell_type": "markdown",
   "id": "9337088b-bb16-4d4f-abf6-5439f2f66902",
   "metadata": {},
   "source": [
    "### Data Science Tools\n",
    "\n",
    "| Category         | Tools                                       |\n",
    "|------------------|---------------------------------------------|\n",
    "| Programming      | Python, R, SQL, Julia, Scala, MATLAB        |\n",
    "| Data Processing  | Pandas, NumPy, dplyr, data.table            |\n",
    "| Visualization    | Matplotlib, Seaborn, ggplot2                |\n",
    "| Machine Learning | Scikit-learn, TensorFlow, PyTorch, caret    |\n",
    "| Big Data         | Apache Spark, Hadoop, Kafka                 |\n",
    "| Database         | MySQL, PostgreSQL, MongoDB, SQLite          |\n",
    "| Cloud Services   | AWS, Azure, Google Cloud Platform (GCP)     |\n",
    "| IDEs             | Jupyter Notebook, RStudio, PyCharm, VS Code |\n"
   ]
  },
  {
   "cell_type": "markdown",
   "id": "0e11e022-fb45-4e5a-b615-47b168d76968",
   "metadata": {},
   "source": [
    "### Data Science Tools\n",
    "\n",
    "| Category         | Tools                                       |\n",
    "|------------------|---------------------------------------------|\n",
    "| Programming      | Python, R, SQL, Julia, Scala, MATLAB        |\n",
    "| Data Processing  | Pandas, NumPy, dplyr, data.table            |\n",
    "| Visualization    | Matplotlib, Seaborn, ggplot2                |\n",
    "| Machine Learning | Scikit-learn, TensorFlow, PyTorch, caret    |\n",
    "| Big Data         | Apache Spark, Hadoop, Kafka                 |\n",
    "| Database         | MySQL, PostgreSQL, MongoDB, SQLite          |\n",
    "| Cloud Services   | AWS, Azure, Google Cloud Platform (GCP)     |\n",
    "| IDEs             | Jupyter Notebook, RStudio, PyCharm, VS Code |\n"
   ]
  },
  {
   "cell_type": "markdown",
   "id": "b583e7ef-ee91-462e-b40c-adc4e3ff1c99",
   "metadata": {
    "tags": []
   },
   "source": [
    "## Arithmetic Expression Examples\n",
    "\n",
    "Arithmetic expressions in programming involve mathematical operations performed on numerical values. In this section, we'll explore various arithmetic operations such as addition, subtraction, multiplication, division, and more using different numerical values. Let's dive into some examples to understand these operations and their results.\n"
   ]
  },
  {
   "cell_type": "markdown",
   "id": "80710aab-2a00-4537-937f-eacf68984171",
   "metadata": {},
   "source": [
    "## Arithmetic Expression Examples\n",
    "\n",
    "Arithmetic expressions in programming involve mathematical operations performed on numerical values. In this section, we'll explore various arithmetic operations such as addition, subtraction, multiplication, division, and more using different numerical values. Let's dive into some examples to understand these operations and their results.\n"
   ]
  },
  {
   "cell_type": "code",
   "execution_count": 1,
   "id": "32f996d1-adc2-481d-b95e-ea2cc4d6ac17",
   "metadata": {
    "tags": []
   },
   "outputs": [
    {
     "name": "stdout",
     "output_type": "stream",
     "text": [
      "the result is:21\n",
      "the result is: 12\n"
     ]
    }
   ],
   "source": [
    "result = 3 * 7\n",
    "\n",
    "print(f\"the result is:{result}\")\n",
    "\n",
    "add_result = 4 + 8\n",
    "\n",
    "print(f\"the result is: { add_result}\")"
   ]
  },
  {
   "cell_type": "code",
   "execution_count": 2,
   "id": "a62872f7-2aec-4337-9234-48f2fdb21999",
   "metadata": {
    "tags": []
   },
   "outputs": [
    {
     "name": "stdout",
     "output_type": "stream",
     "text": [
      "the minuts convert to houers is: 4.0\n"
     ]
    }
   ],
   "source": [
    "minuts = 240\n",
    "\n",
    "houers = minuts / 60\n",
    "\n",
    "print(f\"the minuts convert to houers is: {houers}\")"
   ]
  },
  {
   "cell_type": "markdown",
   "id": "ab348fe8-93dc-4e43-a179-f94aa6eb502c",
   "metadata": {
    "jp-MarkdownHeadingCollapsed": true,
    "tags": []
   },
   "source": [
    "### Objectives\n",
    "\n",
    "1. Understand basic arithmetic operations in programming.\n",
    "2. Perform multiplication, addition, subtraction, and division of numbers.\n",
    "3. Convert units from minutes to hours using Python.\n",
    "4. Explore fundamental concepts of data science tools and languages.\n",
    "5. Gain familiarity with markdown syntax for creating formatted content.\n",
    "6. Create code cells to execute Python commands for mathematical operations and conversions.\n"
   ]
  },
  {
   "cell_type": "markdown",
   "id": "eda48c08-81dd-43fe-88ab-d6a79faa24ff",
   "metadata": {},
   "source": [
    "### Objectives\n",
    "\n",
    "1. Understand basic arithmetic operations in programming.\n",
    "2. Perform multiplication, addition, subtraction, and division of numbers.\n",
    "3. Convert units from minutes to hours using Python.\n",
    "4. Explore fundamental concepts of data science tools and languages.\n",
    "5. Gain familiarity with markdown syntax for creating formatted content.\n",
    "6. Create code cells to execute Python commands for mathematical operations and conversions.\n"
   ]
  },
  {
   "cell_type": "markdown",
   "id": "a99928ac-65c8-4b76-af81-75901e7e3578",
   "metadata": {},
   "source": [
    "### Author\n",
    "- Menachem Mendel kalish\n"
   ]
  },
  {
   "cell_type": "markdown",
   "id": "39396575-ce89-4de8-99a4-3686d5ee8987",
   "metadata": {},
   "source": [
    "### Author\n",
    "- Menachem Mendel kalish\n"
   ]
  }
 ],
 "metadata": {
  "kernelspec": {
   "display_name": "Python",
   "language": "python",
   "name": "conda-env-python-py"
  },
  "language_info": {
   "codemirror_mode": {
    "name": "ipython",
    "version": 3
   },
   "file_extension": ".py",
   "mimetype": "text/x-python",
   "name": "python",
   "nbconvert_exporter": "python",
   "pygments_lexer": "ipython3",
   "version": "3.7.12"
  }
 },
 "nbformat": 4,
 "nbformat_minor": 5
}
